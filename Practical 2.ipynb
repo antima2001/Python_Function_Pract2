{
 "cells": [
  {
   "cell_type": "markdown",
   "id": "c18bf3d8",
   "metadata": {},
   "source": [
    "Write a Program based on functions"
   ]
  },
  {
   "cell_type": "markdown",
   "id": "1667db4f",
   "metadata": {},
   "source": [
    "Exercise 1. Create a function in Python.\n",
    "Exercise 2. Create a function with variable length of argument.\n",
    "Exercise 3. Return multiple values from a function.\n",
    "Exercise 4. Create a function with a default argument\n",
    "Exercise 5. Create an inner function to calculate the addition in the following way"
   ]
  },
  {
   "cell_type": "markdown",
   "id": "43da74cb",
   "metadata": {},
   "source": [
    "Exercise 1. Create a function in Python\n",
    "Write a program to create a function that takes teo arguments, name and age and print their values."
   ]
  },
  {
   "cell_type": "code",
   "execution_count": 1,
   "id": "ea524e29",
   "metadata": {},
   "outputs": [
    {
     "name": "stdout",
     "output_type": "stream",
     "text": [
      "antima 22\n"
     ]
    }
   ],
   "source": [
    "#demo is the function name\n",
    "def demo_antima(name, age):\n",
    "    #print value\n",
    "    print(name,age)\n",
    "    \n",
    "#call function\n",
    "demo_antima(\"antima\", 22)\n"
   ]
  },
  {
   "cell_type": "markdown",
   "id": "3e140450",
   "metadata": {},
   "source": [
    "Exercise 2. Create a function with variable length of arguments\n",
    "Write a program to create a function func1() to accept length of arguments and print their values.\n",
    "Note : Create a function in such a way that we pass any number of arguments to this function, and the function should process them and display each arguments value.\n",
    "Excepted Output:\n",
    "Printing Values\n",
    "20\n",
    "40\n",
    "60\n",
    "Printing values\n",
    "80\n",
    "100\n"
   ]
  },
  {
   "cell_type": "code",
   "execution_count": 11,
   "id": "ff3b9f6a",
   "metadata": {},
   "outputs": [
    {
     "name": "stdout",
     "output_type": "stream",
     "text": [
      "\n",
      "1st Output\n",
      "20\n",
      "40\n",
      "60\n",
      "\n",
      "1st Output\n",
      "80\n",
      "100\n"
     ]
    }
   ],
   "source": [
    "def func1_antima(*args):\n",
    "    for i in args:\n",
    "        print(i)\n",
    "        \n",
    "print()\n",
    "print(\"1st Output\")\n",
    "func1_antima(20,40,60)\n",
    "\n",
    "print()\n",
    "print(\"1st Output\")\n",
    "func1_antima(80,100)\n"
   ]
  },
  {
   "cell_type": "markdown",
   "id": "97aa4a4f",
   "metadata": {},
   "source": [
    "Exercise 3: Return multiple values from a function\n",
    "Write a program to create a function calculation() such that it can accept two variables and calculate addition and subtraction. Also, it must return both addition and subtraction in a single return call."
   ]
  },
  {
   "cell_type": "code",
   "execution_count": 10,
   "id": "80c2d273",
   "metadata": {},
   "outputs": [
    {
     "name": "stdout",
     "output_type": "stream",
     "text": [
      "(50, 30)\n"
     ]
    }
   ],
   "source": [
    "def calculation_antima(a, b):\n",
    "    addition = a + b\n",
    "    subtraction = a - b\n",
    "    #return multiple values separated by comma\n",
    "    return addition, subtraction\n",
    "\n",
    "#get result in tuple format\n",
    "res = calculation_antima(40,10)\n",
    "print(res)"
   ]
  },
  {
   "cell_type": "code",
   "execution_count": 9,
   "id": "d58dfbdd",
   "metadata": {},
   "outputs": [
    {
     "name": "stdout",
     "output_type": "stream",
     "text": [
      "50 30\n"
     ]
    }
   ],
   "source": [
    "def calculation_antima(a,b):\n",
    "    return a + b, a - b\n",
    "\n",
    "#get result in tuple format\n",
    "#unpack tuple\n",
    "add, sub = calculation_antima(40,10)\n",
    "print(add,sub)"
   ]
  },
  {
   "cell_type": "markdown",
   "id": "cb291b02",
   "metadata": {},
   "source": [
    "Exercise 4: Create a function with a default argument\n",
    "Write a program to create a function show_employee() using the following condition.\n",
    "It should accept the employee's name and salary and display both\n",
    "If the salary is missing in function call then assign default value 9000 to salary"
   ]
  },
  {
   "cell_type": "code",
   "execution_count": 5,
   "id": "d57e1ff6",
   "metadata": {},
   "outputs": [
    {
     "name": "stdout",
     "output_type": "stream",
     "text": [
      "Name: Ben salary: 12000\n",
      "Name: Jessa salary: 9000\n"
     ]
    }
   ],
   "source": [
    "#function with default argument\n",
    "def show_employee_antima(name, salary=9000):\n",
    "    print(\"Name:\",name,\"salary:\",salary)\n",
    "    \n",
    "show_employee_antima(\"Ben\",12000)\n",
    "show_employee_antima(\"Jessa\")"
   ]
  },
  {
   "cell_type": "markdown",
   "id": "04d7f69d",
   "metadata": {},
   "source": [
    "Exercise 5: Create a inner function to calculate the addition in the following way.\n",
    "Create an outer function that will accept two parameters, a and b\n",
    "Create an inner function inside an outer function that will calculate the adition of a and b\n",
    "At last, an outer function will add 5 into addition and return it."
   ]
  },
  {
   "cell_type": "code",
   "execution_count": 16,
   "id": "4ce140d2",
   "metadata": {},
   "outputs": [
    {
     "name": "stdout",
     "output_type": "stream",
     "text": [
      "20\n"
     ]
    }
   ],
   "source": [
    "#outer funtion\n",
    "def outer_fun_antima(a, b):\n",
    "    square = a ** 2\n",
    "    \n",
    "    #inner function\n",
    "    def addition(a, b):\n",
    "        return a + b\n",
    "\n",
    "   #call inner funtion from outer function\n",
    "    add = addition(a, b)\n",
    "    #add 5 to the result\n",
    "    return add + 5\n",
    "\n",
    "result = outer_fun_antima(5, 10)\n",
    "print(result)\n"
   ]
  }
 ],
 "metadata": {
  "kernelspec": {
   "display_name": "Python 3 (ipykernel)",
   "language": "python",
   "name": "python3"
  },
  "language_info": {
   "codemirror_mode": {
    "name": "ipython",
    "version": 3
   },
   "file_extension": ".py",
   "mimetype": "text/x-python",
   "name": "python",
   "nbconvert_exporter": "python",
   "pygments_lexer": "ipython3",
   "version": "3.9.12"
  }
 },
 "nbformat": 4,
 "nbformat_minor": 5
}
